{
 "cells": [
  {
   "cell_type": "code",
   "execution_count": 23,
   "metadata": {},
   "outputs": [],
   "source": [
    "import speech_recognition as sr\n",
    "import smtplib\n",
    "import pyaudio\n",
    "import platform\n",
    "import sys\n",
    "from bs4 import BeautifulSoup\n",
    "import email\n",
    "import imaplib\n",
    "from gtts import gTTS\n",
    "import pyglet\n",
    "import os, time\n",
    "import playsound\n",
    "import pyodbc "
   ]
  },
  {
   "cell_type": "code",
   "execution_count": 4,
   "metadata": {},
   "outputs": [],
   "source": [
    "tts = gTTS(text=\"Project: Voice based Email for blind\", lang='en')\n",
    "ttsname=('name.mp3')\n",
    "playsound.playsound(\"name.mp3\")"
   ]
  },
  {
   "cell_type": "code",
   "execution_count": 5,
   "metadata": {},
   "outputs": [],
   "source": [
    "tts = gTTS(text=\"speak now\", lang='en')\n",
    "ttsname=(\"speak.mp3\")\n"
   ]
  },
  {
   "cell_type": "code",
   "execution_count": 6,
   "metadata": {},
   "outputs": [],
   "source": [
    "tts = gTTS(text=\" ok done\", lang='en')\n",
    "ttsname=(\"od.mp3\")\n"
   ]
  },
  {
   "cell_type": "code",
   "execution_count": 7,
   "metadata": {},
   "outputs": [
    {
     "name": "stdout",
     "output_type": "stream",
     "text": [
      "Harshitrocks\n"
     ]
    }
   ],
   "source": [
    "\n",
    "tts = gTTS(text=\"speak your email address \", lang='en')\n",
    "ttsname=('email.mp3')\n",
    "\n",
    "playsound.playsound(\"email.mp3\")\n",
    "playsound.playsound(\"speak.mp3\")\n",
    "r = sr.Recognizer()\n",
    "with sr.Microphone() as source:\n",
    "   audio=r.listen(source)\n",
    "playsound.playsound(\"od.mp3\")\n",
    "email=r.recognize_google(audio)\n",
    "email=email.replace(\" \",\"\")\n",
    "print(email)\n",
    "  "
   ]
  },
  {
   "cell_type": "code",
   "execution_count": 8,
   "metadata": {},
   "outputs": [],
   "source": [
    "tts = gTTS(text=\"the email address entered by you is ::\"+email, lang='en')\n",
    "ttsname=('myemail1.mp3')\n",
    "\n",
    "playsound.playsound(ttsname)\n"
   ]
  },
  {
   "cell_type": "code",
   "execution_count": 11,
   "metadata": {},
   "outputs": [
    {
     "name": "stdout",
     "output_type": "stream",
     "text": [
      "harshit0209\n"
     ]
    }
   ],
   "source": [
    "\n",
    "tts = gTTS(text=\"speak your password\", lang='en')\n",
    "ttsname=('password.mp3')\n",
    "\n",
    "playsound.playsound(\"password.mp3\")\n",
    "playsound.playsound(\"speak.mp3\")\n",
    "r = sr.Recognizer()\n",
    "with sr.Microphone() as source:\n",
    "   audio=r.listen(source)\n",
    "playsound.playsound(\"od.mp3\")\n",
    "password=r.recognize_google(audio)\n",
    "password=password.replace(\" \",\"\")\n",
    "password=password.lower();\n",
    "print(password)\n",
    "  "
   ]
  },
  {
   "cell_type": "code",
   "execution_count": 12,
   "metadata": {},
   "outputs": [
    {
     "name": "stdout",
     "output_type": "stream",
     "text": [
      "You are logging trying from : Harshitrocks\n"
     ]
    }
   ],
   "source": [
    "login = os.getlogin\n",
    "print (\"You are logging trying from : \"+email)"
   ]
  },
  {
   "cell_type": "code",
   "execution_count": 14,
   "metadata": {},
   "outputs": [
    {
     "name": "stdout",
     "output_type": "stream",
     "text": [
      "b. Check your inbox\n"
     ]
    }
   ],
   "source": [
    "tts = gTTS(text=\"option a. composed a mail.\", lang='en')\n",
    "ttsname=(\"aa.mp3\")\n",
    "\n",
    "playsound.playsound(ttsname)\n",
    "print (\"b. Check your inbox\")\n",
    "tts = gTTS(text=\"option b. Check your inbox\", lang='en')\n",
    "ttsname=(\"send.mp3\")\n",
    "\n",
    "playsound.playsound(ttsname)"
   ]
  },
  {
   "cell_type": "code",
   "execution_count": 15,
   "metadata": {},
   "outputs": [],
   "source": [
    "tts = gTTS(text=\"Your choice \", lang='en')\n",
    "ttsname=(\"hello3.mp3\")\n",
    "playsound.playsound(ttsname)"
   ]
  },
  {
   "cell_type": "code",
   "execution_count": 20,
   "metadata": {},
   "outputs": [
    {
     "name": "stdout",
     "output_type": "stream",
     "text": [
      "Your choice:\n",
      "ok done!!\n",
      "b\n"
     ]
    }
   ],
   "source": [
    "r = sr.Recognizer()\n",
    "with sr.Microphone() as source:\n",
    "    print (\"Your choice:\")\n",
    "    audio=r.listen(source)\n",
    "    print (\"ok done!!\")\n",
    "\n",
    "try:\n",
    "    text1=r.recognize_google(audio)\n",
    "    print(text1)\n",
    "    if text1=='a':\n",
    "        tts = gTTS(text=\"you have choose option A\", lang='en')\n",
    "        ttsname=(\"qd.mp3\")\n",
    "    \n",
    "        playsound.playsound(\"qd.mp3\")\n",
    "    elif text1=='b':\n",
    "        tts = gTTS(text=\"you have choose option b \", lang='en')\n",
    "        ttsname=(\"qb.mp3\")\n",
    "        \n",
    "        playsound.playsound(\"qb.mp3\")\n",
    "    else:\n",
    "        tts = gTTS(text=\"you have choose invalid option \", lang='en')\n",
    "        ttsname=(\"qc.mp3\")\n",
    "      \n",
    "        playsound.playsound(\"qc.mp3\")\n",
    "    \n",
    "except sr.UnknownValueError:\n",
    "    print(\"Google Speech Recognition could not understand audio.\")\n",
    "     \n",
    "except sr.RequestError as e:\n",
    "    print(\"Could not request results from Google Speech Recognition service; {0}\".format(e)) \n"
   ]
  },
  {
   "cell_type": "code",
   "execution_count": 21,
   "metadata": {},
   "outputs": [],
   "source": [
    "if text1 == 'a':\n",
    "    tts = gTTS(text=\"speak receiver's email address \", lang='en')\n",
    "    ttsname=('remail.mp3')\n",
    "    playsound.playsound(\"remail.mp3\")\n",
    "    playsound.playsound(\"speak.mp3\")\n",
    "    r = sr.Recognizer()\n",
    "    with sr.Microphone() as source:\n",
    "       audio=r.listen(source)\n",
    "    playsound.playsound(\"od.mp3\")\n",
    "    tomail=r.recognize_google(audio)\n",
    "    tomail=tomail.replace(\" \",\"\")\n",
    "    print(tomail)\n",
    "    r = sr.Recognizer() #recognize\n",
    "    with sr.Microphone() as source:\n",
    "        tts = gTTS(text=\"enter your message body\", lang='en')\n",
    "        ttsname=(\"message.mp3\")\n",
    "      \n",
    "        playsound.playsound(\"message.mp3\")\n",
    "        audio=r.listen(source)\n",
    "        playsound.playsound(\"od.mp3\")\n",
    "    try:\n",
    "        text2=r.recognize_google(audio)\n",
    "        print (\"You said : \"+text2)\n",
    "        msg = text2\n",
    "    except sr.UnknownValueError:\n",
    "        print(\"Google Speech Recognition could not understand audio.\")\n",
    "    except sr.RequestError as e:\n",
    "        print(\"Could not request results from Google Speech Recognition service; {0}\".format(e))    \n",
    "\n",
    "    mail = smtplib.SMTP('smtp.gmail.com',587)    #host and port area\n",
    "    mail.ehlo()  #Hostname to send for this command defaults to the FQDN of the local host.\n",
    "    mail.starttls() #security connection\n",
    "    mail.login(email,password) #login part\n",
    "    mail.sendmail('harshitrockslasec@gmail.com','samarth109.jyc@gmail.com',msg) #send part\n",
    "    print (\"Congrats! Your mail has send. \")\n",
    "    tts = gTTS(text=\"Congrats! Your mail has send. \", lang='en')\n",
    "    ttsname=(\"send12.mp3\")\n",
    "    playsound.playsound(ttsname)\n",
    "    mail.close()   "
   ]
  },
  {
   "cell_type": "code",
   "execution_count": 26,
   "metadata": {},
   "outputs": [
    {
     "name": "stdout",
     "output_type": "stream",
     "text": [
      "Number of mails in your inbox :[b'45416']\n",
      "From: \"Tata Tele Business Sevices\" <newsletter@towering.in>\n",
      "Subject: Boost you business this season with most reliable and high speed internet service\n",
      "Body :--0000000000002ae26c0598277420\n",
      "Content-Type: text/plain; charset=\"UTF-8\"\n",
      "\n",
      "Testing has been successfully completed if the mail is visible in the\n",
      "database.\n",
      "\n",
      "--0000000000002ae26c0598277420\n",
      "Content-Type: text/html; charset=\"UTF-8\"\n",
      "\n",
      "Testing has been successfully completed if the mail is visible in the database.\n",
      "\n",
      "--0000000000002ae26c0598277420--\n",
      "\n",
      "('samarth109.jyc@gmail.com', 'testing project', 'is mail visible through database')\n",
      "('q', 'w', 'txt')\n"
     ]
    }
   ],
   "source": [
    "if text1 == 'b':\n",
    "    conn = pyodbc.connect('Driver={SQL Server};'\n",
    "                      'Server=DESKTOP-VTUCSFN\\SQLEXPRESS01;'\n",
    "                      'Database=mail;'\n",
    "                      'Trusted_Connection=yes;')\n",
    "    mail = imaplib.IMAP4_SSL('imap.gmail.com',993) #this is host and port area.... ssl security\n",
    "    unm = ('harshitrockslasec@gmail.com')  #username\n",
    "    psw = ('harshit0209')  #password\n",
    "    mail.login(unm,psw)  #login\n",
    "    stat, total = mail.select('Inbox')  #total number of mails in inbox\n",
    "    print (\"Number of mails in your inbox :\"+str(total))\n",
    "    tts = gTTS(text=\"Total mails are :\"+str(total), lang='en') #voice out\n",
    "    playsound.playsound(\"total.mp3\")\n",
    "    \n",
    "#     music = pyglet.media.load(ttsname, streaming = False)\n",
    "#     music.play()\n",
    "#     time.sleep(music.duration)\n",
    "#     os.remove(ttsname)\n",
    "#     #unseen mails\n",
    "\n",
    "#     music = pyglet.media.load(ttsname, streaming = False)\n",
    "#     music.play()\n",
    "#     time.sleep(music.duration)\n",
    "#     os.remove(ttsname)\n",
    "#     #search mails\n",
    "    result, data = mail.uid('search',None, \"ALL\")\n",
    "    inbox_item_list = data[0].split()\n",
    "    new = inbox_item_list[-5]\n",
    "    old = inbox_item_list[0]\n",
    "    result2, email_data = mail.uid('fetch', new, '(RFC822)') #fetch\n",
    "    raw_email = email_data[0][1].decode(\"utf-8\") #decode\n",
    "    email_message = email.message_from_string(raw_email)\n",
    "    print (\"From: \"+email_message['From'])\n",
    "    q=str(email_message['From'])\n",
    "    w=str(email_message['Subject'])\n",
    "    print (\"Subject: \"+str(email_message['Subject']))\n",
    "    \n",
    "    tts = gTTS(text=\"From: \"+email_message['From']+\" And Your subject: \"+str(email_message['Subject']), lang='en')\n",
    "    playsound.playsound(\"mail.mp3\")\n",
    " \n",
    "#     music = pyglet.media.load(ttsname, streaming = False)\n",
    "#     music.play()\n",
    "#     time.sleep(music.duration)\n",
    "#     os.remove(ttsname)\n",
    "#     #Body part of mails\n",
    "    stat, total1 = mail.select('Inbox')\n",
    "    stat, data1 = mail.fetch(total1[0], \"(UID BODY[TEXT])\")\n",
    "    msg = data1[0][1]\n",
    "    soup = BeautifulSoup(msg, \"html.parser\")\n",
    "    txt = soup.get_text()\n",
    "    print (\"Body :\"+txt)\n",
    "    cursor = conn.cursor()\n",
    "    cursor.execute(\"INSERT INTO mail.dbo.datatable(sender_id,subject,body)VALUES('q','w','txt')\")\n",
    "    tts = gTTS(text=\"Body: \"+txt, lang='en')\n",
    "    #playsound.playsound(\"body.mp3\")\n",
    "    \n",
    "#     music = pyglet.media.load(ttsname, streaming = False)\n",
    "#     music.play()\n",
    "#     time.sleep(music.duration)\n",
    "#     os.remove(ttsname)\n",
    "#     mail.close()\n",
    "  \n",
    "\n",
    "\n",
    "\n",
    "\n",
    "    cursor = conn.cursor()\n",
    "    cursor.execute('SELECT * FROM mail.dbo.datatable')\n",
    "\n",
    "    for row in cursor:\n",
    "        print(row)\n",
    "    mail.logout()"
   ]
  },
  {
   "cell_type": "code",
   "execution_count": null,
   "metadata": {},
   "outputs": [],
   "source": []
  },
  {
   "cell_type": "code",
   "execution_count": null,
   "metadata": {},
   "outputs": [],
   "source": []
  }
 ],
 "metadata": {
  "kernelspec": {
   "display_name": "Python 3",
   "language": "python",
   "name": "python3"
  },
  "language_info": {
   "codemirror_mode": {
    "name": "ipython",
    "version": 3
   },
   "file_extension": ".py",
   "mimetype": "text/x-python",
   "name": "python",
   "nbconvert_exporter": "python",
   "pygments_lexer": "ipython3",
   "version": "3.7.3"
  }
 },
 "nbformat": 4,
 "nbformat_minor": 2
}
